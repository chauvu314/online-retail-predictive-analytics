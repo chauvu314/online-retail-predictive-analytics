{
  "nbformat": 4,
  "nbformat_minor": 0,
  "metadata": {
    "colab": {
      "provenance": []
    },
    "kernelspec": {
      "name": "python3",
      "display_name": "Python 3"
    },
    "language_info": {
      "name": "python"
    }
  },
  "cells": [
    {
      "cell_type": "markdown",
      "source": [
        "1. Install and Import Libraries"
      ],
      "metadata": {
        "id": "wVS6YzJGYpGc"
      }
    },
    {
      "cell_type": "code",
      "execution_count": null,
      "metadata": {
        "colab": {
          "base_uri": "https://localhost:8080/"
        },
        "id": "wzJLV8b5YoST",
        "outputId": "56031115-9dcf-4b7c-802f-1cad38b70000"
      },
      "outputs": [
        {
          "output_type": "stream",
          "name": "stdout",
          "text": [
            "Requirement already satisfied: openpyxl in /usr/local/lib/python3.11/dist-packages (3.1.5)\n",
            "Requirement already satisfied: et-xmlfile in /usr/local/lib/python3.11/dist-packages (from openpyxl) (2.0.0)\n"
          ]
        },
        {
          "output_type": "stream",
          "name": "stderr",
          "text": [
            "[nltk_data] Downloading package stopwords to /root/nltk_data...\n",
            "[nltk_data]   Unzipping corpora/stopwords.zip.\n"
          ]
        }
      ],
      "source": [
        "# Install necessary libraries (if needed)\n",
        "!pip install openpyxl\n",
        "\n",
        "# Import libraries\n",
        "import pandas as pd\n",
        "import matplotlib.pyplot as plt\n",
        "import seaborn as sns\n",
        "from sklearn.model_selection import train_test_split\n",
        "from sklearn.preprocessing import LabelEncoder\n",
        "from sklearn.linear_model import LogisticRegression\n",
        "from sklearn.ensemble import RandomForestClassifier\n",
        "from sklearn.metrics import accuracy_score, confusion_matrix, classification_report\n",
        "from wordcloud import WordCloud\n",
        "import nltk\n",
        "nltk.download('stopwords')\n",
        "from nltk.corpus import stopwords\n",
        "import re"
      ]
    },
    {
      "cell_type": "markdown",
      "source": [
        "2. Load Data"
      ],
      "metadata": {
        "id": "bsaDK3nNYtVW"
      }
    },
    {
      "cell_type": "code",
      "source": [
        "# Upload the dataset\n",
        "from google.colab import files\n",
        "uploaded = files.upload()\n",
        "\n",
        "# Read the Excel file\n",
        "df = pd.read_excel('Online Retail.xlsx')\n",
        "\n",
        "# Display basic information\n",
        "print(df.info())\n",
        "print(df.head())"
      ],
      "metadata": {
        "colab": {
          "base_uri": "https://localhost:8080/",
          "height": 575
        },
        "id": "PCxUuYlTYu2T",
        "outputId": "63c4abb0-249f-460b-b237-c525a7aee2e7"
      },
      "execution_count": null,
      "outputs": [
        {
          "output_type": "display_data",
          "data": {
            "text/plain": [
              "<IPython.core.display.HTML object>"
            ],
            "text/html": [
              "\n",
              "     <input type=\"file\" id=\"files-dc3c95ad-7220-4850-b111-4a2223617383\" name=\"files[]\" multiple disabled\n",
              "        style=\"border:none\" />\n",
              "     <output id=\"result-dc3c95ad-7220-4850-b111-4a2223617383\">\n",
              "      Upload widget is only available when the cell has been executed in the\n",
              "      current browser session. Please rerun this cell to enable.\n",
              "      </output>\n",
              "      <script>// Copyright 2017 Google LLC\n",
              "//\n",
              "// Licensed under the Apache License, Version 2.0 (the \"License\");\n",
              "// you may not use this file except in compliance with the License.\n",
              "// You may obtain a copy of the License at\n",
              "//\n",
              "//      http://www.apache.org/licenses/LICENSE-2.0\n",
              "//\n",
              "// Unless required by applicable law or agreed to in writing, software\n",
              "// distributed under the License is distributed on an \"AS IS\" BASIS,\n",
              "// WITHOUT WARRANTIES OR CONDITIONS OF ANY KIND, either express or implied.\n",
              "// See the License for the specific language governing permissions and\n",
              "// limitations under the License.\n",
              "\n",
              "/**\n",
              " * @fileoverview Helpers for google.colab Python module.\n",
              " */\n",
              "(function(scope) {\n",
              "function span(text, styleAttributes = {}) {\n",
              "  const element = document.createElement('span');\n",
              "  element.textContent = text;\n",
              "  for (const key of Object.keys(styleAttributes)) {\n",
              "    element.style[key] = styleAttributes[key];\n",
              "  }\n",
              "  return element;\n",
              "}\n",
              "\n",
              "// Max number of bytes which will be uploaded at a time.\n",
              "const MAX_PAYLOAD_SIZE = 100 * 1024;\n",
              "\n",
              "function _uploadFiles(inputId, outputId) {\n",
              "  const steps = uploadFilesStep(inputId, outputId);\n",
              "  const outputElement = document.getElementById(outputId);\n",
              "  // Cache steps on the outputElement to make it available for the next call\n",
              "  // to uploadFilesContinue from Python.\n",
              "  outputElement.steps = steps;\n",
              "\n",
              "  return _uploadFilesContinue(outputId);\n",
              "}\n",
              "\n",
              "// This is roughly an async generator (not supported in the browser yet),\n",
              "// where there are multiple asynchronous steps and the Python side is going\n",
              "// to poll for completion of each step.\n",
              "// This uses a Promise to block the python side on completion of each step,\n",
              "// then passes the result of the previous step as the input to the next step.\n",
              "function _uploadFilesContinue(outputId) {\n",
              "  const outputElement = document.getElementById(outputId);\n",
              "  const steps = outputElement.steps;\n",
              "\n",
              "  const next = steps.next(outputElement.lastPromiseValue);\n",
              "  return Promise.resolve(next.value.promise).then((value) => {\n",
              "    // Cache the last promise value to make it available to the next\n",
              "    // step of the generator.\n",
              "    outputElement.lastPromiseValue = value;\n",
              "    return next.value.response;\n",
              "  });\n",
              "}\n",
              "\n",
              "/**\n",
              " * Generator function which is called between each async step of the upload\n",
              " * process.\n",
              " * @param {string} inputId Element ID of the input file picker element.\n",
              " * @param {string} outputId Element ID of the output display.\n",
              " * @return {!Iterable<!Object>} Iterable of next steps.\n",
              " */\n",
              "function* uploadFilesStep(inputId, outputId) {\n",
              "  const inputElement = document.getElementById(inputId);\n",
              "  inputElement.disabled = false;\n",
              "\n",
              "  const outputElement = document.getElementById(outputId);\n",
              "  outputElement.innerHTML = '';\n",
              "\n",
              "  const pickedPromise = new Promise((resolve) => {\n",
              "    inputElement.addEventListener('change', (e) => {\n",
              "      resolve(e.target.files);\n",
              "    });\n",
              "  });\n",
              "\n",
              "  const cancel = document.createElement('button');\n",
              "  inputElement.parentElement.appendChild(cancel);\n",
              "  cancel.textContent = 'Cancel upload';\n",
              "  const cancelPromise = new Promise((resolve) => {\n",
              "    cancel.onclick = () => {\n",
              "      resolve(null);\n",
              "    };\n",
              "  });\n",
              "\n",
              "  // Wait for the user to pick the files.\n",
              "  const files = yield {\n",
              "    promise: Promise.race([pickedPromise, cancelPromise]),\n",
              "    response: {\n",
              "      action: 'starting',\n",
              "    }\n",
              "  };\n",
              "\n",
              "  cancel.remove();\n",
              "\n",
              "  // Disable the input element since further picks are not allowed.\n",
              "  inputElement.disabled = true;\n",
              "\n",
              "  if (!files) {\n",
              "    return {\n",
              "      response: {\n",
              "        action: 'complete',\n",
              "      }\n",
              "    };\n",
              "  }\n",
              "\n",
              "  for (const file of files) {\n",
              "    const li = document.createElement('li');\n",
              "    li.append(span(file.name, {fontWeight: 'bold'}));\n",
              "    li.append(span(\n",
              "        `(${file.type || 'n/a'}) - ${file.size} bytes, ` +\n",
              "        `last modified: ${\n",
              "            file.lastModifiedDate ? file.lastModifiedDate.toLocaleDateString() :\n",
              "                                    'n/a'} - `));\n",
              "    const percent = span('0% done');\n",
              "    li.appendChild(percent);\n",
              "\n",
              "    outputElement.appendChild(li);\n",
              "\n",
              "    const fileDataPromise = new Promise((resolve) => {\n",
              "      const reader = new FileReader();\n",
              "      reader.onload = (e) => {\n",
              "        resolve(e.target.result);\n",
              "      };\n",
              "      reader.readAsArrayBuffer(file);\n",
              "    });\n",
              "    // Wait for the data to be ready.\n",
              "    let fileData = yield {\n",
              "      promise: fileDataPromise,\n",
              "      response: {\n",
              "        action: 'continue',\n",
              "      }\n",
              "    };\n",
              "\n",
              "    // Use a chunked sending to avoid message size limits. See b/62115660.\n",
              "    let position = 0;\n",
              "    do {\n",
              "      const length = Math.min(fileData.byteLength - position, MAX_PAYLOAD_SIZE);\n",
              "      const chunk = new Uint8Array(fileData, position, length);\n",
              "      position += length;\n",
              "\n",
              "      const base64 = btoa(String.fromCharCode.apply(null, chunk));\n",
              "      yield {\n",
              "        response: {\n",
              "          action: 'append',\n",
              "          file: file.name,\n",
              "          data: base64,\n",
              "        },\n",
              "      };\n",
              "\n",
              "      let percentDone = fileData.byteLength === 0 ?\n",
              "          100 :\n",
              "          Math.round((position / fileData.byteLength) * 100);\n",
              "      percent.textContent = `${percentDone}% done`;\n",
              "\n",
              "    } while (position < fileData.byteLength);\n",
              "  }\n",
              "\n",
              "  // All done.\n",
              "  yield {\n",
              "    response: {\n",
              "      action: 'complete',\n",
              "    }\n",
              "  };\n",
              "}\n",
              "\n",
              "scope.google = scope.google || {};\n",
              "scope.google.colab = scope.google.colab || {};\n",
              "scope.google.colab._files = {\n",
              "  _uploadFiles,\n",
              "  _uploadFilesContinue,\n",
              "};\n",
              "})(self);\n",
              "</script> "
            ]
          },
          "metadata": {}
        },
        {
          "output_type": "stream",
          "name": "stdout",
          "text": [
            "Saving Online Retail.xlsx to Online Retail.xlsx\n",
            "<class 'pandas.core.frame.DataFrame'>\n",
            "RangeIndex: 541909 entries, 0 to 541908\n",
            "Data columns (total 8 columns):\n",
            " #   Column       Non-Null Count   Dtype         \n",
            "---  ------       --------------   -----         \n",
            " 0   InvoiceNo    541909 non-null  object        \n",
            " 1   StockCode    541909 non-null  object        \n",
            " 2   Description  540455 non-null  object        \n",
            " 3   Quantity     541909 non-null  int64         \n",
            " 4   InvoiceDate  541909 non-null  datetime64[ns]\n",
            " 5   UnitPrice    541909 non-null  float64       \n",
            " 6   CustomerID   406829 non-null  float64       \n",
            " 7   Country      541909 non-null  object        \n",
            "dtypes: datetime64[ns](1), float64(2), int64(1), object(4)\n",
            "memory usage: 33.1+ MB\n",
            "None\n",
            "  InvoiceNo StockCode                          Description  Quantity  \\\n",
            "0    536365    85123A   WHITE HANGING HEART T-LIGHT HOLDER         6   \n",
            "1    536365     71053                  WHITE METAL LANTERN         6   \n",
            "2    536365    84406B       CREAM CUPID HEARTS COAT HANGER         8   \n",
            "3    536365    84029G  KNITTED UNION FLAG HOT WATER BOTTLE         6   \n",
            "4    536365    84029E       RED WOOLLY HOTTIE WHITE HEART.         6   \n",
            "\n",
            "          InvoiceDate  UnitPrice  CustomerID         Country  \n",
            "0 2010-12-01 08:26:00       2.55     17850.0  United Kingdom  \n",
            "1 2010-12-01 08:26:00       3.39     17850.0  United Kingdom  \n",
            "2 2010-12-01 08:26:00       2.75     17850.0  United Kingdom  \n",
            "3 2010-12-01 08:26:00       3.39     17850.0  United Kingdom  \n",
            "4 2010-12-01 08:26:00       3.39     17850.0  United Kingdom  \n"
          ]
        }
      ]
    },
    {
      "cell_type": "markdown",
      "source": [
        "3. Exploratory Data Analysis (EDA)"
      ],
      "metadata": {
        "id": "mTTiBGLKbQBP"
      }
    },
    {
      "cell_type": "code",
      "source": [
        "# Check missing values\n",
        "print(df.isnull().sum())\n",
        "\n",
        "# Create a new feature: TotalPrice = Quantity * UnitPrice\n",
        "df['TotalPrice'] = df['Quantity'] * df['UnitPrice']\n",
        "\n",
        "# Display basic statistics\n",
        "print(df[['Quantity', 'UnitPrice', 'TotalPrice']].describe())"
      ],
      "metadata": {
        "colab": {
          "base_uri": "https://localhost:8080/"
        },
        "id": "616NPFuzbSWX",
        "outputId": "dc670197-dc52-416c-fad4-d40ddbbd7050"
      },
      "execution_count": null,
      "outputs": [
        {
          "output_type": "stream",
          "name": "stdout",
          "text": [
            "InvoiceNo           0\n",
            "StockCode           0\n",
            "Description      1454\n",
            "Quantity            0\n",
            "InvoiceDate         0\n",
            "UnitPrice           0\n",
            "CustomerID     135080\n",
            "Country             0\n",
            "dtype: int64\n",
            "            Quantity      UnitPrice     TotalPrice\n",
            "count  541909.000000  541909.000000  541909.000000\n",
            "mean        9.552250       4.611114      17.987795\n",
            "std       218.081158      96.759853     378.810824\n",
            "min    -80995.000000  -11062.060000 -168469.600000\n",
            "25%         1.000000       1.250000       3.400000\n",
            "50%         3.000000       2.080000       9.750000\n",
            "75%        10.000000       4.130000      17.400000\n",
            "max     80995.000000   38970.000000  168469.600000\n"
          ]
        }
      ]
    },
    {
      "cell_type": "markdown",
      "source": [
        "Visualizations"
      ],
      "metadata": {
        "id": "Vb69RJUVdBzw"
      }
    },
    {
      "cell_type": "code",
      "source": [
        "# Distribution of Quantity\n",
        "plt.figure(figsize=(8,5))\n",
        "plt.hist(df['Quantity'], bins=100, edgecolor='black')\n",
        "plt.title('Distribution of Quantity per Transaction')\n",
        "plt.xlabel('Quantity')\n",
        "plt.ylabel('Frequency')\n",
        "plt.xlim(-10,100)\n",
        "plt.grid()\n",
        "plt.show()\n",
        "\n",
        "# Distribution of Unit Price\n",
        "plt.figure(figsize=(8,5))\n",
        "plt.hist(df['UnitPrice'], bins=100, edgecolor='black')\n",
        "plt.title('Distribution of Unit Price')\n",
        "plt.xlabel('Unit Price')\n",
        "plt.ylabel('Frequency')\n",
        "plt.xlim(0,50)\n",
        "plt.grid()\n",
        "plt.show()\n",
        "\n",
        "# Distribution of Total Price\n",
        "plt.figure(figsize=(8,5))\n",
        "plt.hist(df['TotalPrice'], bins=100, edgecolor='black')\n",
        "plt.title('Distribution of Total Transaction Value')\n",
        "plt.xlabel('Total Price')\n",
        "plt.ylabel('Frequency')\n",
        "plt.xlim(0,500)\n",
        "plt.grid()\n",
        "plt.show()\n",
        "\n",
        "# Top 10 countries by number of transactions\n",
        "top_countries = df['Country'].value_counts().head(10)\n",
        "\n",
        "plt.figure(figsize=(10,6))\n",
        "top_countries.plot(kind='bar')\n",
        "plt.title('Top 10 Countries by Number of Transactions')\n",
        "plt.xlabel('Country')\n",
        "plt.ylabel('Number of Transactions')\n",
        "plt.xticks(rotation=45)\n",
        "plt.grid()\n",
        "plt.show()"
      ],
      "metadata": {
        "colab": {
          "base_uri": "https://localhost:8080/",
          "height": 1000
        },
        "id": "FQcDmsbsdCNQ",
        "outputId": "fc4abd10-c773-455e-bd47-78ec2e3d2a2a"
      },
      "execution_count": null,
      "outputs": [
        {
          "output_type": "display_data",
          "data": {
            "text/plain": [
              "<Figure size 800x500 with 1 Axes>"
            ],
            "image/png": "[encoded data removed]"
          },
          "metadata": {}
        },
        {
          "output_type": "display_data",
          "data": {
            "text/plain": [
              "<Figure size 800x500 with 1 Axes>"
            ],
            "image/png": "[encoded data removed]"
          },
          "metadata": {}
        },
        {
          "output_type": "display_data",
          "data": {
            "text/plain": [
              "<Figure size 800x500 with 1 Axes>"
            ],
            "image/png": "[encoded data removed]"
          },
          "metadata": {}
        },
        {
          "output_type": "display_data",
          "data": {
            "text/plain": [
              "<Figure size 1000x600 with 1 Axes>"
            ],
            "image/png": "[encoded data removed]"
          },
          "metadata": {}
        }
      ]
    },
    {
      "cell_type": "markdown",
      "source": [
        "4. Data Cleaning"
      ],
      "metadata": {
        "id": "7Tu0WHnUdFxg"
      }
    },
    {
      "cell_type": "code",
      "source": [
        "# Drop rows with missing CustomerID\n",
        "df = df.dropna(subset=['CustomerID'])\n",
        "\n",
        "# Keep only transactions with positive Quantity and UnitPrice\n",
        "df = df[(df['Quantity'] > 0) & (df['UnitPrice'] > 0)]\n",
        "\n",
        "# Convert CustomerID to integer\n",
        "df['CustomerID'] = df['CustomerID'].astype(int)\n",
        "\n",
        "# Confirm data types\n",
        "print(df.dtypes)"
      ],
      "metadata": {
        "colab": {
          "base_uri": "https://localhost:8080/"
        },
        "id": "PKPZpBIWdGPQ",
        "outputId": "1053a279-8a6a-4a4b-ed7b-bc19d2131b67"
      },
      "execution_count": null,
      "outputs": [
        {
          "output_type": "stream",
          "name": "stdout",
          "text": [
            "InvoiceNo              object\n",
            "StockCode              object\n",
            "Description            object\n",
            "Quantity                int64\n",
            "InvoiceDate    datetime64[ns]\n",
            "UnitPrice             float64\n",
            "CustomerID              int64\n",
            "Country                object\n",
            "TotalPrice            float64\n",
            "dtype: object\n"
          ]
        }
      ]
    },
    {
      "cell_type": "markdown",
      "source": [
        "5. Feature Engineering"
      ],
      "metadata": {
        "id": "psPDNuZKfGF7"
      }
    },
    {
      "cell_type": "code",
      "source": [
        "# Calculate number of unique invoices per customer\n",
        "customer_invoice_counts = df.groupby('CustomerID')['InvoiceNo'].nunique()\n",
        "\n",
        "# Label customers as repeat buyers if they have more than one invoice\n",
        "repeat_buyer = customer_invoice_counts.apply(lambda x: 1 if x > 1 else 0)\n",
        "\n",
        "# Merge repeat buyer label into the main dataset\n",
        "df = df.merge(repeat_buyer.rename('RepeatBuyer'), on='CustomerID')\n",
        "\n",
        "# Summarize customer features\n",
        "features = df.groupby('CustomerID').agg({\n",
        "    'Quantity': 'sum',\n",
        "    'TotalPrice': 'sum',\n",
        "    'InvoiceNo': 'nunique',\n",
        "    'Country': 'first',\n",
        "    'RepeatBuyer': 'first'\n",
        "}).reset_index()\n",
        "\n",
        "# Rename columns\n",
        "features.rename(columns={\n",
        "    'Quantity': 'TotalQuantity',\n",
        "    'TotalPrice': 'TotalRevenue',\n",
        "    'InvoiceNo': 'NumInvoices'\n",
        "}, inplace=True)\n",
        "\n",
        "# Display sample features\n",
        "print(features.head())"
      ],
      "metadata": {
        "colab": {
          "base_uri": "https://localhost:8080/"
        },
        "id": "vI6c93uNfHGB",
        "outputId": "5a50463b-ab5c-4bcd-c99d-791791872324"
      },
      "execution_count": null,
      "outputs": [
        {
          "output_type": "stream",
          "name": "stdout",
          "text": [
            "   CustomerID  TotalQuantity  TotalRevenue  NumInvoices         Country  \\\n",
            "0       12346          74215      77183.60            1  United Kingdom   \n",
            "1       12347           2458       4310.00            7         Iceland   \n",
            "2       12348           2341       1797.24            4         Finland   \n",
            "3       12349            631       1757.55            1           Italy   \n",
            "4       12350            197        334.40            1          Norway   \n",
            "\n",
            "   RepeatBuyer  \n",
            "0            0  \n",
            "1            1  \n",
            "2            1  \n",
            "3            0  \n",
            "4            0  \n"
          ]
        }
      ]
    },
    {
      "cell_type": "markdown",
      "source": [
        "6. Prepare Data for Modeling"
      ],
      "metadata": {
        "id": "SGL11LXhfLSa"
      }
    },
    {
      "cell_type": "code",
      "source": [
        "# Encode the Country variable\n",
        "le = LabelEncoder()\n",
        "features['CountryEncoded'] = le.fit_transform(features['Country'])\n",
        "\n",
        "# Define features and label\n",
        "X = features[['TotalQuantity', 'TotalRevenue', 'NumInvoices', 'CountryEncoded']]\n",
        "y = features['RepeatBuyer']\n",
        "\n",
        "# Split data into training and testing sets\n",
        "X_train, X_test, y_train, y_test = train_test_split(X, y, test_size=0.2, random_state=42)\n",
        "\n",
        "print(X_train.shape, X_test.shape)"
      ],
      "metadata": {
        "colab": {
          "base_uri": "https://localhost:8080/"
        },
        "id": "9x5h-otwhn3C",
        "outputId": "7ce421f8-192b-4453-c09b-0ccf15256532"
      },
      "execution_count": null,
      "outputs": [
        {
          "output_type": "stream",
          "name": "stdout",
          "text": [
            "(3470, 4) (868, 4)\n"
          ]
        }
      ]
    },
    {
      "cell_type": "markdown",
      "source": [
        "7. Logistic Regression Model"
      ],
      "metadata": {
        "id": "JrUpaiJthsdq"
      }
    },
    {
      "cell_type": "code",
      "source": [
        "# Train Logistic Regression model\n",
        "logreg = LogisticRegression()\n",
        "logreg.fit(X_train, y_train)\n",
        "\n",
        "# Make predictions\n",
        "y_pred_logreg = logreg.predict(X_test)\n",
        "\n",
        "# Evaluate model\n",
        "print(\"Logistic Regression Accuracy:\", accuracy_score(y_test, y_pred_logreg))\n",
        "print(\"\\nConfusion Matrix:\\n\", confusion_matrix(y_test, y_pred_logreg))\n",
        "print(\"\\nClassification Report:\\n\", classification_report(y_test, y_pred_logreg))"
      ],
      "metadata": {
        "colab": {
          "base_uri": "https://localhost:8080/"
        },
        "id": "8_5PMQYFhsPL",
        "outputId": "7bec6a59-b173-4787-fbe0-39861c88f7e6"
      },
      "execution_count": null,
      "outputs": [
        {
          "output_type": "stream",
          "name": "stdout",
          "text": [
            "Logistic Regression Accuracy: 1.0\n",
            "\n",
            "Confusion Matrix:\n",
            " [[282   0]\n",
            " [  0 586]]\n",
            "\n",
            "Classification Report:\n",
            "               precision    recall  f1-score   support\n",
            "\n",
            "           0       1.00      1.00      1.00       282\n",
            "           1       1.00      1.00      1.00       586\n",
            "\n",
            "    accuracy                           1.00       868\n",
            "   macro avg       1.00      1.00      1.00       868\n",
            "weighted avg       1.00      1.00      1.00       868\n",
            "\n"
          ]
        }
      ]
    },
    {
      "cell_type": "markdown",
      "source": [
        "8. Random Forest Model"
      ],
      "metadata": {
        "id": "7PIgSW8bmfhS"
      }
    },
    {
      "cell_type": "code",
      "source": [
        "# Train Random Forest model\n",
        "rf = RandomForestClassifier(random_state=42)\n",
        "rf.fit(X_train, y_train)\n",
        "\n",
        "# Make predictions\n",
        "y_pred_rf = rf.predict(X_test)\n",
        "\n",
        "# Evaluate model\n",
        "print(\"Random Forest Accuracy:\", accuracy_score(y_test, y_pred_rf))\n",
        "print(\"\\nConfusion Matrix:\\n\", confusion_matrix(y_test, y_pred_rf))\n",
        "print(\"\\nClassification Report:\\n\", classification_report(y_test, y_pred_rf))"
      ],
      "metadata": {
        "colab": {
          "base_uri": "https://localhost:8080/"
        },
        "id": "Dp53iq8amfPi",
        "outputId": "a3575e29-4732-4afa-d19b-18c09a3068c1"
      },
      "execution_count": null,
      "outputs": [
        {
          "output_type": "stream",
          "name": "stdout",
          "text": [
            "Random Forest Accuracy: 1.0\n",
            "\n",
            "Confusion Matrix:\n",
            " [[282   0]\n",
            " [  0 586]]\n",
            "\n",
            "Classification Report:\n",
            "               precision    recall  f1-score   support\n",
            "\n",
            "           0       1.00      1.00      1.00       282\n",
            "           1       1.00      1.00      1.00       586\n",
            "\n",
            "    accuracy                           1.00       868\n",
            "   macro avg       1.00      1.00      1.00       868\n",
            "weighted avg       1.00      1.00      1.00       868\n",
            "\n"
          ]
        }
      ]
    },
    {
      "cell_type": "markdown",
      "source": [
        "Business Insights\n",
        "- Both Logistic Regression and Random Forest models achieved 100% accuracy in predicting repeat buyers.\n",
        "- Features such as Total Quantity, Total Revenue, and Number of Invoices are strong indicators of customer loyalty.\n",
        "- Recommendation: Focus marketing campaigns on customers with higher initial spending and transaction volumes.\n",
        "- Target countries with higher repeat purchase rates to optimize sales efforts."
      ],
      "metadata": {
        "id": "uBcFEc1fpL8S"
      }
    },
    {
      "cell_type": "markdown",
      "source": [
        "Ethics Reflection\n",
        "- Privacy: Ensure that CustomerID and personal details are protected and anonymized.\n",
        "- Bias: Models may overfit to dominant countries like the United Kingdom; efforts should be made to avoid regional bias.\n",
        "- Fairness: Marketing decisions based on predictions should be fair and non-discriminatory towards low-spending customers."
      ],
      "metadata": {
        "id": "Ed-V_30Uvbq2"
      }
    },
    {
      "cell_type": "markdown",
      "source": [
        "**Online Retail Predictive Analytics**\n",
        "\n",
        "**Title:** Predicting Repeat Buyers in Online Retail\n",
        "\n",
        "**Course:** ISOM 835 – Predictive Analytics and Machine Learning\n",
        "\n",
        "**Instructor:** Dr. Hasan Arslan\n",
        "\n",
        "**Student Name:** Vu Ngoc Bao Chau\n",
        "\n",
        "\n",
        "\n",
        "---\n",
        "\n",
        "\n",
        "**A. Introduction**\n",
        "\n",
        "In the competitive landscape of online retail, customer retention is crucial for business success. Identifying repeat buyers early enables companies to tailor marketing strategies and foster customer loyalty.\n",
        "This project applies predictive analytics methods to the \"Online Retail\" dataset from the UCI Machine Learning Repository.\n",
        "The objective is to predict whether a customer will become a repeat buyer based on their initial transaction behavior.\n",
        "\n",
        "**B. Dataset Description**\n",
        "\n",
        "The dataset contains approximately 541,909 transactions from a UK-based online retail company between 2010 and 2011.\n",
        "Each record includes details such as Invoice Number, Stock Code, Quantity, Invoice Date, Unit Price, Customer ID, and Country.\n",
        "\n",
        "After cleaning, the dataset consists of:\n",
        "- 397,884 valid transactions\n",
        "- 8 primary features + engineered TotalPrice feature\n",
        "\n",
        "**C. Exploratory Data Analysis (EDA)**\n",
        "\n",
        "- Missing Values: CustomerID and Description columns had missing values; CustomerID was critical for analysis and missing entries were removed.\n",
        "- Quantity Distribution: Most transactions involved small quantities, with outliers buying large volumes.\n",
        "- Unit Price Distribution: Prices were concentrated under 50 GBP.\n",
        "- Country Analysis: United Kingdom dominated the transactions.\n",
        "\n",
        "Visualizations include histograms for Quantity, Unit Price, Total Price, and a bar chart of the Top 10 Countries by transactions.\n",
        "\n",
        "**D. Data Cleaning**\n",
        "\n",
        "The following steps were taken:\n",
        "- Removed transactions with missing CustomerID.\n",
        "- Filtered out transactions where Quantity <= 0 or UnitPrice <= 0.\n",
        "- Converted CustomerID to integer type for analysis.\n",
        "- Created a new feature `TotalPrice` = `Quantity` × `UnitPrice`.\n",
        "\n",
        "**E. Business Questions**\n",
        "\n",
        "1. Can we predict whether a customer will become a repeat buyer based on their initial purchases?\n",
        "\n",
        "Motivation:\n",
        "In the highly competitive online retail environment, retaining customers is more cost-effective than acquiring new ones. Predicting repeat buyers early allows businesses to proactively engage these customers through loyalty programs, personalized promotions, and better service offerings.\n",
        "\n",
        "Business Impact:  Accurately identifying potential loyal customers can significantly improve marketing ROI, customer lifetime value, and overall profitability.\n",
        "\n",
        "Actionable Outcomes:  If the model can predict repeat buyers with high accuracy, the business can allocate marketing budgets more efficiently and implement targeted retention strategies.\n",
        "\n",
        "2. Which transactional features are most predictive of repeat buying behavior?\n",
        "\n",
        "Motivation:\n",
        "Understanding the key factors that influence customer loyalty enables better product planning, inventory management, and customer relationship strategies.\n",
        "\n",
        "Business Impact:  By knowing which transactional patterns (e.g., quantity purchased, total revenue, number of transactions) are linked to repeat buying, the business can enhance its operational strategies to promote loyalty.\n",
        "\n",
        "Actionable Outcomes:  Insights can be used to design personalized customer journeys, offer discounts on high-retention products, and identify early signs of potential churn.\n",
        "\n",
        "**F. Feature Engineering**\n",
        "\n",
        "Aggregated customer-level features:\n",
        "- TotalQuantity: Sum of all quantities purchased.\n",
        "- TotalRevenue: Sum of all transaction values.\n",
        "- NumInvoices: Number of unique invoices.\n",
        "- CountryEncoded: Encoded categorical country information.\n",
        "\n",
        "Created target label:\n",
        "- RepeatBuyer: 1 if customer made more than one purchase, 0 otherwise.\n",
        "\n",
        "**G. Predictive Modeling**\n",
        "\n",
        "Logistic Regression\n",
        "\n",
        "- Accuracy: 100%\n",
        "- Perfect classification on both classes.\n",
        "  \n",
        "Random Forest Classifier\n",
        "\n",
        "- Accuracy: 100%\n",
        "- Also perfectly classified repeat buyers vs. non-repeat buyers.\n",
        "\n",
        "Both models achieved identical performance due to the clear separation of customer behaviors in the feature space.\n",
        "\n",
        "**H. Model Evaluation**\n",
        "\n",
        "- Confusion Matrix: No misclassifications observed.\n",
        "- Precision, Recall, F1-Score: All metrics equal to 1.00.\n",
        "- Interpretation: Features like TotalQuantity, TotalRevenue, and NumInvoices are highly predictive of customer loyalty.\n",
        "\n",
        "Random Forest may generalize better in larger datasets, but Logistic Regression already provided complete classification in this case.\n",
        "\n",
        "**I. Insights and Recommendations**\n",
        "\n",
        "- Customers with higher initial purchase quantity and revenue are highly likely to become repeat buyers.\n",
        "- Early identification of potential loyal customers can help businesses focus marketing efforts and loyalty programs.\n",
        "- Customers with only a single invoice should be targeted with re-engagement campaigns to boost retention.\n",
        "- Certain countries may exhibit stronger loyalty patterns; geographical segmentation is recommended.\n",
        "\n",
        "**J. Ethics and Interpretability Reflection**\n",
        "\n",
        "- Privacy: Customer data must be anonymized to protect sensitive information.\n",
        "- Bias: Data skewed towards UK customers might introduce regional bias; care must be taken when generalizing results.\n",
        "- Fairness: Marketing efforts based on predictions should not discriminate against customers with lower initial spending.\n",
        "\n",
        "Efforts should be made to ensure ethical, fair, and transparent use of predictive models in marketing strategies.\n"
      ],
      "metadata": {
        "id": "kYir0j4bwUxu"
      }
    }
  ]
}